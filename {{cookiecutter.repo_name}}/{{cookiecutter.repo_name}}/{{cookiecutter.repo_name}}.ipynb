{
 "cells": [
  {
   "cell_type": "code",
   "execution_count": null,
   "id": "34301162-da9c-4cbe-9ab1-42adc3763dbb",
   "metadata": {},
   "outputs": [],
   "source": [
    "import pandas as pd\n",
    "import numpy as np"
   ]
  },
  {
   "cell_type": "markdown",
   "id": "836e0ea9-6565-4715-a4cf-408a9e74a7e1",
   "metadata": {},
   "source": [
    "## Read Data\n",
    "\n",
    "All data should be read in this section of the notebook. \n",
    "\n",
    "To take advantage of caching for read or processed dataframes, which then lets the data state by saved to GCP, wrap data pulling steps in functions and use the @cacheable decorator on those functions. This will save everything to a .cache dir. For example:\n",
    "\n",
    "```python\n",
    "from utils import cacheable\n",
    "\n",
    "@cacheable('cached_processed.parquet')\n",
    "def process_data():\n",
    "\tdf = pd.read_gbq('SELECT * FROM `large_mutable_dataset.data`')\n",
    "\treturn df\n",
    "```\n",
    "\n",
    "Note, doing this means that rerunning the notebook will read from a local csv in the cache directory instead of reading from bigquery.\n",
    "\n",
    "Additionally, the local cache folder can be uploaded to GCP and then redownloaded (by you or someone else) by calling\n",
    "`poetry run upload_cache` and `poetry run download_cache`, respectively, in your terminal.\n",
    "\n",
    "> Note\n",
    "> \n",
    "> To clear the cache (to pull fresh data, for instance), the cache folder needs to be removed. "
   ]
  },
  {
   "cell_type": "markdown",
   "id": "feadbdb4-3f30-4d20-b235-6c069c3e5929",
   "metadata": {},
   "source": [
    "## Analysis"
   ]
  },
  {
   "cell_type": "code",
   "execution_count": null,
   "id": "1aa276fe-33ba-41f4-af8d-49232e6a909a",
   "metadata": {},
   "outputs": [],
   "source": []
  }
 ],
 "metadata": {
  "kernelspec": {
   "display_name": "Python 3 (ipykernel)",
   "language": "python",
   "name": "python3"
  },
  "language_info": {
   "codemirror_mode": {
    "name": "ipython",
    "version": 3
   },
   "file_extension": ".py",
   "mimetype": "text/x-python",
   "name": "python",
   "nbconvert_exporter": "python",
   "pygments_lexer": "ipython3",
   "version": "3.9.13"
  }
 },
 "nbformat": 4,
 "nbformat_minor": 5
}
